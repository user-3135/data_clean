{
 "cells": [
  {
   "cell_type": "code",
   "execution_count": 1,
   "metadata": {},
   "outputs": [],
   "source": [
    "import pandas as pd\n",
    "import excel_file_4 as writer\n",
    "import xlsxwriter as xl"
   ]
  },
  {
   "cell_type": "code",
   "execution_count": 2,
   "metadata": {},
   "outputs": [],
   "source": [
    "actual_budget = pd.read_excel('test_data_import.xlsx', sheet_name = 'Actual-Budget')\n",
    "is_df = pd.read_excel('test_data_import.xlsx', sheet_name = 'IS') #BS\n",
    "bs_df = pd.read_excel('test_data_import.xlsx', sheet_name = 'BS') #BS\n",
    "cash_flow_df = pd.read_excel('test_data_import.xlsx', sheet_name = 'CashFlow') #BS\n",
    "tb_df_1 = pd.read_excel('test_data_import.xlsx', sheet_name = 'TB') #BS\n",
    "je_register_data = pd.read_excel('test_data_import.xlsx', sheet_name = 'JE Register')\n",
    "data_mth_gl = pd.read_excel('test_data_import.xlsx', sheet_name = 'MTH GL')\n",
    "data_ap_detail = pd.read_excel('test_data_import.xlsx', sheet_name = 'AP Detail')\n",
    "data_payment_register = pd.read_excel('test_data_import.xlsx', sheet_name = 'Pymnt Register')\n",
    "data_ar_detail = pd.read_excel('test_data_import.xlsx', sheet_name = 'AR Detail')\n",
    "data_ten_sched = pd.read_excel('test_data_import.xlsx', sheet_name = 'TenSched1')\n",
    "data_12_month = pd.read_excel('test_data_import.xlsx', sheet_name = 'IS 12 Month Actual')"
   ]
  },
  {
   "cell_type": "code",
   "execution_count": 3,
   "metadata": {},
   "outputs": [],
   "source": [
    "workbook_not_func = xl.Workbook('clean_4.xlsx')\n",
    "#----------------------------------------------------------------------------------- 1\n",
    "je_register_worksheet = workbook_not_func.add_worksheet('JE Register')\n",
    "mnth_gl_worksheet = workbook_not_func.add_worksheet('Mnth GL')\n",
    "ap_detail_sheet = workbook_not_func.add_worksheet('AP Detail')\n",
    "worksheet_pay_reg = workbook_not_func.add_worksheet('Payment Register')\n",
    "# procs\n",
    "try:\n",
    "    h = writer.JE_REGISTER_SHEET(workbook_not_func, je_register_data, je_register_worksheet)\n",
    "except:\n",
    "    print(1)\n",
    "try:\n",
    "    f = writer.mnth_gl_sheet(workbook_not_func, data_mth_gl, mnth_gl_worksheet) ##mnth_gl_sheet\n",
    "except:\n",
    "    print(2)\n",
    "try:\n",
    "    e = writer.ap_detail_sheet_def(workbook_not_func, data_ap_detail, ap_detail_sheet)\n",
    "except:\n",
    "    print(3)\n",
    "try:\n",
    "    d = writer.payment_register_sheet(workbook_not_func, data_payment_register, worksheet_pay_reg)\n",
    "except:\n",
    "    print(4)\n",
    "#----------------------------------------------------------------------------------- 2\n",
    "aging_detail_sheet = workbook_not_func.add_worksheet('AR Detail')\n",
    "if 1 == 1:\n",
    "    worksheet_tenancy_sched = workbook_not_func.add_worksheet('TenSched1')\n",
    "    worksheet_12_mo_actual = workbook_not_func.add_worksheet('IS 12 Month Actual')\n",
    "    # procs\n",
    "    try:\n",
    "        a = writer.twelve_month_actual_budget(workbook_not_func, data_12_month, worksheet_12_mo_actual)\n",
    "    except:\n",
    "        print(5)\n",
    "    try:\n",
    "        b = writer.ten_sched_1(workbook_not_func, data_ten_sched, worksheet_tenancy_sched)\n",
    "    except:\n",
    "        print(6)\n",
    "    try:\n",
    "        c = writer.aging_detail(workbook_not_func, data_ar_detail, aging_detail_sheet)\n",
    "    except:\n",
    "        print(7)\n",
    "#----------------------------------------------------------------------------------- 3\n",
    "cf_worksheet_func = workbook_not_func.add_worksheet('cash flow')\n",
    "try:\n",
    "    aa = writer.create_xl_cf(workbook_not_func, cash_flow_df, cf_worksheet_func)\n",
    "except:\n",
    "    print(8)\n",
    "tb_worksheet_func = workbook_not_func.add_worksheet('trial balance')\n",
    "try:\n",
    "    ba = writer.create_xl_tb(workbook_not_func, tb_df_1, tb_worksheet_func)\n",
    "except:\n",
    "    print(9)\n",
    "bs_wb = workbook_not_func.add_worksheet('BS')\n",
    "try:\n",
    "    ca = writer.create_xl_balance_sheet(workbook_not_func, bs_df, bs_wb)\n",
    "except:\n",
    "    print(10)\n",
    "act_bud_worksheet_func = workbook_not_func.add_worksheet('test')\n",
    "try:\n",
    "    fa = writer.budget_comp_sheet_creation(workbook_not_func, actual_budget, act_bud_worksheet_func)\n",
    "except:\n",
    "    print(11)\n",
    "Income_Statement_wb = workbook_not_func.add_worksheet('Income Statement')\n",
    "try:\n",
    "    writer.income_statement(workbook_not_func, is_df, Income_Statement_wb)\n",
    "except:\n",
    "    print(12)\n",
    "column_width_list = [\n",
    "            [11.5, 0, 0, mnth_gl_worksheet]\n",
    "            ,[16, 1, 1, mnth_gl_worksheet]\n",
    "            ,[10.8, 2, 2, mnth_gl_worksheet]\n",
    "            ,[11.3, 3, 3, mnth_gl_worksheet]\n",
    "            ,[39.6, 4, 4, mnth_gl_worksheet]\n",
    "            ,[9.3, 5, 5, mnth_gl_worksheet]\n",
    "            ,[23.3, 6, 6, mnth_gl_worksheet]\n",
    "            ,[11.4, 7, 8, mnth_gl_worksheet]\n",
    "            ,[14.4, 9, 9, mnth_gl_worksheet]\n",
    "            ,[50.7, 10, 10, mnth_gl_worksheet]\n",
    "            ,[71, 0, 0, Income_Statement_wb]\n",
    "            ,[17.7, 1, 2, Income_Statement_wb]\n",
    "            ,[42.3,0,0, worksheet_12_mo_actual]\n",
    "            ,[11.9,1,16, worksheet_12_mo_actual]\n",
    "            ,[58.8, 0, 0, bs_wb]\n",
    "            ,[17.9, 1, 3, bs_wb]\n",
    "            ,[71, 0, 0, cf_worksheet_func ] ## cashflow\n",
    "            ,[17.7, 1, 2, cf_worksheet_func] ## cashflow\n",
    "            ,[38.7, 0, 0, tb_worksheet_func] ## Trial Balance\n",
    "            ,[16.4, 1, 4, tb_worksheet_func] ## Trial Balance\n",
    "            ,[12.7, 0, 16, worksheet_tenancy_sched] ## Tenancy Schedule\n",
    "            ,[10, 0, 0, aging_detail_sheet] ## AR Detail\n",
    "            ,[9.8, 1, 1, aging_detail_sheet] ## AR Detail\n",
    "            ,[42.2, 2, 2, aging_detail_sheet] ## AR Detail\n",
    "            ,[9.8, 3, 3, aging_detail_sheet] ## AR Detail\n",
    "            ,[7.8, 4, 4, aging_detail_sheet] ## AR Detail\n",
    "            ,[8.8, 5, 5, aging_detail_sheet] ## AR Detail\n",
    "            ,[10.3, 6, 6, aging_detail_sheet] ## AR Detail\n",
    "            ,[10.3, 7, 7, aging_detail_sheet] ## AR Detail\n",
    "            ,[12, 8, 14, aging_detail_sheet] ## AR Detail\n",
    "            ,[14.4, 0, 0, worksheet_pay_reg] ## Payment Register\n",
    "            ,[6.4, 1, 1, worksheet_pay_reg] ## Payment Register\n",
    "            ,[9.5, 2, 2, worksheet_pay_reg] ## Payment Register\n",
    "            ,[10.7, 3, 3, worksheet_pay_reg] ## Payment Register\n",
    "            ,[22.9, 4, 4, worksheet_pay_reg] ## Payment Register\n",
    "            ,[10.2, 5, 5, worksheet_pay_reg] ## Payment Register\n",
    "            ,[9.5, 6, 6, worksheet_pay_reg] ## Payment Register\n",
    "            ,[8, 7, 7, worksheet_pay_reg] ## Payment Register\n",
    "            ,[7.5, 8, 8, worksheet_pay_reg] ## Payment Register\n",
    "            ,[8.2, 9, 9, worksheet_pay_reg] ## Payment Register\n",
    "            ,[10, 10, 10, worksheet_pay_reg ] ## Payment Register\n",
    "            ,[16, 11, 11, worksheet_pay_reg] ## Payment Register\n",
    "            ,[10, 12, 12, worksheet_pay_reg] ## Payment Register\n",
    "            ,[47.3, 13, 13, worksheet_pay_reg] ## Payment Register\n",
    "            ,[13.8, 0, 0, ap_detail_sheet] ## AP Detail\n",
    "            ,[12.2, 1, 0, ap_detail_sheet] ## AP Detail\n",
    "            ,[25.2, 2, 0, ap_detail_sheet] ## AP Detail\n",
    "            ,[6.4, 3, 0, ap_detail_sheet] ## AP Detail\n",
    "            ,[7, 4, 0, ap_detail_sheet] ## AP Detail\n",
    "            ,[8.2, 5, 0, ap_detail_sheet] ## AP Detail\n",
    "            ,[10.8, 6, 0, ap_detail_sheet] ## AP Detail\n",
    "            ,[16.3, 7, 0, ap_detail_sheet] ## AP Detail\n",
    "            ,[17.3, 8, 0, ap_detail_sheet] ## AP Detail\n",
    "            ,[10.3, 9, 14, ap_detail_sheet] ## AP Detail\n",
    "            ,[27.4, 15, 15, ap_detail_sheet] ## AP Detail\n",
    "            ,[9.8, 0, 0, je_register_worksheet] ## JE Register\n",
    "            ,[10.2, 1, 3, je_register_worksheet] ## JE Register\n",
    "            ,[9.5, 4, 4, je_register_worksheet] ## JE Register\n",
    "            ,[12.8, 5, 5, je_register_worksheet] ## JE Register\n",
    "            ,[42.2, 6, 6, je_register_worksheet] ## JE Register\n",
    "            ,[16, 7, 7, je_register_worksheet] ## JE Register\n",
    "            ,[10, 8, 8, je_register_worksheet] ## JE Register\n",
    "            ,[12.5, 9, 10, je_register_worksheet] ## JE Register\n",
    "            ,[6.3, 12, 12, je_register_worksheet] ## JE Register\n",
    "            ,[37.5, 13, 13, je_register_worksheet] ## JE Register\n",
    "            # ,[11.5, 0, 0, ] ## General Ledger\n",
    "            # ,[16, 0, 0, ] ## General Ledger\n",
    "            # ,[10.8, 0, 0, ] ## General Ledger\n",
    "            # ,[11.3, 0, 0, ] ## General Ledger\n",
    "            # ,[39.7, 0, 0, ] ## General Ledger\n",
    "            # ,[9.3, 0, 0, ] ## General Ledger\n",
    "            # ,[23.3, 0, 0, ] ## General Ledger\n",
    "            # ,[11.4, 0, 0, ] ## General Ledger\n",
    "            # ,[14.4, 0, 0, ] ## General Ledger\n",
    "            # ,[50.7, 0, 0, ] ## General Ledger\n",
    "\n",
    "    ]\n",
    "for i in column_width_list:\n",
    "    try:\n",
    "        i[3].set_column(i[1],i[2], i[0])\n",
    "    except:\n",
    "        pass\n",
    "workbook_not_func.close()"
   ]
  },
  {
   "cell_type": "code",
   "execution_count": 4,
   "metadata": {},
   "outputs": [],
   "source": [
    "import openpyxl\n",
    "import comb"
   ]
  },
  {
   "cell_type": "code",
   "execution_count": 5,
   "metadata": {},
   "outputs": [
    {
     "name": "stdout",
     "output_type": "stream",
     "text": [
      "3.1.2\n"
     ]
    }
   ],
   "source": [
    "print(openpyxl.__version__)"
   ]
  },
  {
   "cell_type": "code",
   "execution_count": 6,
   "metadata": {},
   "outputs": [],
   "source": [
    "wb_base = openpyxl.load_workbook('./clean_4.xlsx')"
   ]
  },
  {
   "cell_type": "code",
   "execution_count": 7,
   "metadata": {},
   "outputs": [],
   "source": [
    "vals_to_rip = ['Summary'\n",
    "               , 'FS Checklist'\n",
    "               , 'Financial Summary Chart'\n",
    "               , 'Rent Roll'\n",
    "               , 'Mngt Fee '\n",
    "               , 'RET & Insurance'\n",
    "               , 'Depr Schedule'\n",
    "               , 'Amort Schedule'\n",
    "               , 'Mortgage Statement'\n",
    "               , 'Bank Recon'\n",
    "              ]"
   ]
  },
  {
   "cell_type": "code",
   "execution_count": 8,
   "metadata": {},
   "outputs": [],
   "source": [
    "wb_add = openpyxl.load_workbook('./test_load_no_import.xlsx')"
   ]
  },
  {
   "cell_type": "code",
   "execution_count": 9,
   "metadata": {},
   "outputs": [
    {
     "name": "stdout",
     "output_type": "stream",
     "text": [
      "Unable to copy default column wide\n",
      "Unable to copy default column wide\n",
      "Unable to copy default column wide\n",
      "Unable to copy default column wide\n",
      "Unable to copy default column wide\n",
      "Unable to copy default column wide\n"
     ]
    }
   ],
   "source": [
    "for i in vals_to_rip:    \n",
    "    target_sheet = wb_base.create_sheet(i)\n",
    "    try:\n",
    "        source_sheet = wb_add[i]\n",
    "        comb.copy_sheet(source_sheet, target_sheet)\n",
    "    except:\n",
    "        print(i)\n",
    "\n",
    "wb_base.save('rip_clean.xlsx')"
   ]
  },
  {
   "cell_type": "code",
   "execution_count": null,
   "metadata": {},
   "outputs": [],
   "source": []
  }
 ],
 "metadata": {
  "kernelspec": {
   "display_name": "Python 3",
   "language": "python",
   "name": "python3"
  },
  "language_info": {
   "codemirror_mode": {
    "name": "ipython",
    "version": 3
   },
   "file_extension": ".py",
   "mimetype": "text/x-python",
   "name": "python",
   "nbconvert_exporter": "python",
   "pygments_lexer": "ipython3",
   "version": "3.8.5"
  }
 },
 "nbformat": 4,
 "nbformat_minor": 4
}
